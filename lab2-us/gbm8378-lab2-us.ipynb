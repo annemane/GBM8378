{
 "cells": [
  {
   "cell_type": "markdown",
   "metadata": {},
   "source": [
    "<div align=\"center\"> \n",
    "    \n",
    "# GBM8378 - Principes d'imagerie biomédicale - Hiver 2021\n",
    "## Laboratoire 2 - Ultrasons\n",
    "<br>\n",
    "    \n",
    "**Prénom1 Nom1 - Matricule1**  \n",
    "**Prénom2 Nom2 - Matricule2**\n",
    "    \n",
    "</div> "
   ]
  },
  {
   "cell_type": "markdown",
   "metadata": {},
   "source": [
    "<div align=\"center\" class=\"alert alert-block alert-danger\">\n",
    "    <b>Assurez vous d'avoir indiqué vos noms et matricules dans la cellule précédente.</b>\n",
    "</div>"
   ]
  },
  {
   "cell_type": "markdown",
   "metadata": {},
   "source": [
    "<div class=\"alert alert-block alert-danger\">\n",
    "<b>\n",
    "Avant de commencer à répondre au différentes questions, veuillez vérifier que le Jupyter Notebook fonctionne correctement:\n",
    "    <br>\n",
    "    <br>\n",
    "    1. Redémarrez le noyau (dans la barre de menu : \"Kernel\" $\\rightarrow$ \"Restart\")\n",
    "    <br>\n",
    "    2. Lancez toutes les cellules (dans la barre de menu :  \"Cell\" $\\rightarrow$ \"Run All\").\n",
    "</b>\n",
    "</div>"
   ]
  },
  {
   "cell_type": "markdown",
   "metadata": {},
   "source": [
    "# Introduction"
   ]
  },
  {
   "cell_type": "markdown",
   "metadata": {},
   "source": [
    "## Partie théorique (11 pts)"
   ]
  },
  {
   "cell_type": "markdown",
   "metadata": {},
   "source": [
    "<div class=\"alert alert-block alert-info\">\n",
    "1)\tQuel est l’impact de la fréquence de réponse du transducteur sur (i) la profondeur de pénétration, (ii) la résolution spatiale dans les différentes directions, et (iii) l’absorption. 1pt<br><br>\n",
    "2)\tÀ quel temps le pic de l’écho devrait-il apparaître sur l’écran ?1pt<br><br>\n",
    "3)\tPour des signaux expérimentaux, est-il mieux d'enregistrer une fenêtre temporelle plus petite ou plus grande pour déterminer la réponse en fréquence ? Justifier votre réponse. 1pt<br><br>\n",
    "    \n",
    "\n",
    "<img src=\"tp2img1.png\" alt=\"first_graph\"/>\n",
    "\n",
    "<center> <i>Figure 5 Question 3. Exemple de fenêtres temporelles différentes. Enregistrements de 10 s (gauche) et de 25 s (droite). </i></center> <br><br> \n",
    "4)\tDonnez trois types d’interactions des ondes acoustiques avec la matière ? Avec quel autre domaine de la physique pouvez-vous faire l’analogie. 1pt<br><br>\n",
    "5)\tSupposons que l’on essaie d’imager deux structures différentes. L’une ayant une impédance acoustique de 1.70, ce qui se rapproche de celle du milieu dans lequel se propage l’onde (1.62) et l’autre possédant une impédance beaucoup plus élevée (5.75). Vous pouvez supposer que les deux structures ont une absorption négligeable.\n",
    "<ul>\n",
    "a.\tQuelle structure sera le plus facilement identifiable ? 0.5pt<br>\n",
    "b.\tConsidérant une incidence normale, quel est le pourcentage de l’intensité de l’onde acoustique qui sera recaptée par le transducteur suite à la réflexion sur la première structure dense (considérer l’atténuation de l’onde par le milieu = coefficient d’absorption de l’eau, considérez une onde accoustique de 15Mhz et utilisez α=a.f ) ? 1.5pt<br>\n",
    "c.\tQuel est le pourcentage de l’intensité de l’onde acoustique qui sera recaptée suite à la réflexion sur la seconde structure ? (Ne pas tenir compte des réflexions multiples) 1.5pts<br>\n",
    "d.\tSi la première structure était plus profonde que la seconde, qu’arriverait-il (Ne pas tenir compte des réflexions multiples)? 1pt<br>\n",
    "e.\tQuelle est la difficulté d’utiliser l’échographie pour imager des tumeurs cérébrales (comme proposé par MM. Wild et Reid). 0.5pt <br>\n",
    "</ul>\n",
    "\n",
    "<img src=\"tp2img2.png\" alt=\"first_graph\"/>\n",
    "\n",
    "<br>\n",
    "6)\tExpliquer pourquoi il n’y a pas de problème à faire transiter le signal d’aller et de retour par le même canal du transducteur au pulseur. 1pt<br><br>\n",
    "7)\tProuver que pour un signal périodique, de la forme $f(t)= sin (\\omega_0t)$, la transformée de Fourier fait ressortir le contenu fréquentiel. 1pt<br><br>\n",
    "</div>"
   ]
  },
  {
   "cell_type": "markdown",
   "metadata": {},
   "source": [
    "<div class=\"alert alert-block alert-success\"> **Double click and add your verbal answers here.** </div>"
   ]
  },
  {
   "cell_type": "markdown",
   "metadata": {},
   "source": [
    "## Mise en pratique (4pts)"
   ]
  },
  {
   "cell_type": "code",
   "execution_count": null,
   "metadata": {},
   "outputs": [],
   "source": [
    "# Dans cette cellule, nous importons les librairies/fonctions qui nous serviront dans ce notebook.\n",
    "# N'hésitez pas à importer d'autres fonctions si besoin (pensez à relancer la cellule à chaque ajout).\n",
    "# %matplotlib inline permet de visualiser les figure dans le notebook.\n",
    "%matplotlib inline \n",
    "import numpy as np\n",
    "import matplotlib.pyplot as plt\n",
    "from numpy.fft import fft, fft2, fftshift, ifft, ifftshift"
   ]
  },
  {
   "cell_type": "markdown",
   "metadata": {},
   "source": [
    "### Partie 1"
   ]
  },
  {
   "cell_type": "markdown",
   "metadata": {},
   "source": [
    "<div class=\"alert alert-block alert-warning\">\n",
    "    \n",
    "Interprétez la dérive basse fréquence. \n",
    "</div>"
   ]
  },
  {
   "cell_type": "code",
   "execution_count": null,
   "metadata": {},
   "outputs": [],
   "source": [
    "# On charge le fichier et on l'affiche. \n",
    "scanA = np.load('scanA.npy')\n",
    "\n",
    "plt.figure(figsize=[8, 8])\n",
    "plt.plot(scanA)\n",
    "plt.title(\"Signal ScanA\")\n",
    "plt.xlabel(\"Nombre d'échantillon\")\n",
    "plt.ylabel(\"Amplitude de l'onde sonore\");"
   ]
  },
  {
   "cell_type": "markdown",
   "metadata": {},
   "source": [
    "<div class=\"alert alert-block alert-success\"> **Double click and add your verbal answers here.** </div>"
   ]
  },
  {
   "cell_type": "markdown",
   "metadata": {},
   "source": [
    "<div class=\"alert alert-block alert-warning\">\n",
    "Proposez une méthode pour la corriger et appliquez cette méthode. Affichez l’écho corrigé de ce biais.\n",
    "</div>"
   ]
  },
  {
   "cell_type": "markdown",
   "metadata": {},
   "source": [
    "<div class=\"alert alert-block alert-success\"> **Double click and add your verbal answers here.** </div>"
   ]
  },
  {
   "cell_type": "code",
   "execution_count": null,
   "metadata": {},
   "outputs": [],
   "source": [
    "plt.figure(figsize=[8, 8])\n",
    "# Commencer votre solution ici (7 lignes max)\n",
    "# Correction du changement d'intensité\n",
    "\n",
    "# Fin de solution \n",
    "\n",
    "plt.title(\"Echo corrigé\")\n",
    "plt.xlabel(\"Nombre d'échantillon\")\n",
    "plt.ylabel(\"Amplitude de l'onde sonore\");"
   ]
  },
  {
   "cell_type": "markdown",
   "metadata": {},
   "source": [
    "<div class=\"alert alert-block alert-warning\"> Sachant que la fréquence d’échantillonnage est de 100 MHz et que la vitesse du son dans l'eau est de 1500 m/s, à quelle distance est placée la tige? 0.5 pts </div>\n",
    "\n"
   ]
  },
  {
   "cell_type": "code",
   "execution_count": null,
   "metadata": {},
   "outputs": [],
   "source": [
    "# Commencer votre solution ici\n",
    "\n",
    "# Fin de solution\n",
    "\n",
    "print(f\"La distance de la tige est de {d} m.\")"
   ]
  },
  {
   "cell_type": "markdown",
   "metadata": {},
   "source": [
    "<div class=\"alert alert-block alert-warning\"> Effectuer la transformée de Fourier numérique des données recueillies afin de retrouver la réponse en fréquence du transducteur. Afficher le résultat sous forme de graphique, bien identifier les axes et la fréquence centrale. 1pts </div>\n",
    "\n"
   ]
  },
  {
   "cell_type": "code",
   "execution_count": null,
   "metadata": {},
   "outputs": [],
   "source": [
    "plt.figure(figsize=[8, 8])\n",
    "# Commencer votre solution ici\n",
    "\n",
    "# Fin de solution\n",
    "\n",
    "# Comparer avec les données constructeur\n",
    "H2 = np.load('H2.npy')\n",
    "# Interpolate between 0 and 50 Mhz\n",
    "nbpts = 2048 # Nombre de données acquises par 1 transducteur\n",
    "H2 = np.interp(np.linspace(0, 50, nbpts // 2 + 1), np.linspace(0, 30, len(H2)), H2, left=0, right=0)\n",
    "H2 = np.concatenate((H2[-1:0:-1], H2[:-1]))\n",
    "\n",
    "plt.plot(np.linspace(-Fs/2,Fs/2,2048),  H2, color='red');\n"
   ]
  },
  {
   "cell_type": "markdown",
   "metadata": {},
   "source": [
    "<div class=\"alert alert-block alert-warning\"> Que venez-vous de mesurer ? (0.5pts) </div>"
   ]
  },
  {
   "cell_type": "markdown",
   "metadata": {},
   "source": [
    "<div class=\"alert alert-block alert-success\"> **Double click and add your verbal answers here.** </div>"
   ]
  },
  {
   "cell_type": "markdown",
   "metadata": {},
   "source": [
    "<div class=\"alert alert-block alert-warning\"> Comparer avec la valeur fournie par le fabriquant du transducteur (voir Figure 6). </div> "
   ]
  },
  {
   "cell_type": "markdown",
   "metadata": {},
   "source": [
    "<div class=\"alert alert-block alert-success\"> **Double click and add your verbal answers here.** </div>"
   ]
  },
  {
   "cell_type": "markdown",
   "metadata": {},
   "source": [
    "### Partie 2 "
   ]
  },
  {
   "cell_type": "markdown",
   "metadata": {},
   "source": [
    "<div class=\"alert alert-block alert-info\">\n",
    "Données :\n",
    "L’image a été obtenue en effectuant un scan en mode B avec la sonde étudiée précédemment sur un fantôme contenant des billes. Les données sont dans le fichier <b>rawdata.npy</b>. Chaque colonne correspond à la réception d’un transducteur.\n",
    "Pour un scan donné, l’onde acoustique se propage selon l’axe des z, lorsque l’onde rencontre un changement d’indice, un signal est réfléchi et pourra être mesuré par le transducteur. Il est à noter que le signal mesuré est un signal temporel et que le signal recherché est une mesure spatiale.<br><br>\n",
    "\n",
    "Déconvolution :\n",
    "Les données recueillies par chaque transducteur peuvent être représentées mathématiquement approximativement<sup>1</sup> comme :\n",
    "\n",
    "$g(t)=\\int_{-\\infty}^{\\infty} h(t-\\tau)\\cdot f(\\tau) d\\tau = h(\\tau)\\star f(\\tau)$\n",
    "(1)<br>\n",
    "où :<ul>\n",
    "    $g(t)=$données recueillies<br>\n",
    "    $f(t)=$données réelles<br>\n",
    "    $h(t)=$réponse temporelle du transducteur<br>\n",
    "    </ul>\n",
    "    \n",
    "<sup>1</sup>Le signal provenant de réflexions sur des éléments de d’autres transducteur n’est pas considéré.\n",
    "\n",
    "</div>"
   ]
  },
  {
   "cell_type": "markdown",
   "metadata": {},
   "source": [
    "<div class=\"alert alert-block alert-warning\">\n",
    "Comment interprétez-vous cette convolution? Pourquoi le signal recueilli diffère du signal réel ? <br>\n",
    "La réponse du transducteur est fournie par le fournisseur dans le fichier H2.mat (1 pt)\n",
    "</div>"
   ]
  },
  {
   "cell_type": "markdown",
   "metadata": {},
   "source": [
    "<div class=\"alert alert-block alert-success\"> **Double click and add your verbal answers here.** </div>"
   ]
  },
  {
   "cell_type": "markdown",
   "metadata": {},
   "source": [
    "<div class=\"alert alert-block alert-warning\">\n",
    "<img src=\"tp2img3.png\" alt=\"first_graph\"/>   \n",
    "\n",
    "</div>"
   ]
  },
  {
   "cell_type": "markdown",
   "metadata": {},
   "source": [
    "<div class=\"alert alert-block alert-warning\">\n",
    "Résoudre l’équation (1) pour obtenir le signal réel f(t) sachant la réponse du transducteur g(t). (1 pt)<br><br>\n",
    "En pratique un terme de régularisation µ est ajouté et l’équation utilisée est : <br>\n",
    "    $F(\\omega)=\\frac{G(\\omega)\\cdot H(\\omega)}{H(\\omega)^2+\\mu}$\n",
    "</div>"
   ]
  },
  {
   "cell_type": "markdown",
   "metadata": {},
   "source": [
    "<div class=\"alert alert-block alert-success\"> **Double click and add your verbal answers here.** </div>"
   ]
  },
  {
   "cell_type": "markdown",
   "metadata": {},
   "source": [
    "<div class=\"alert alert-block alert-warning\"> Quelle est l’utilité de ce terme de régularisation ?(1pts)\n",
    "    </div>"
   ]
  },
  {
   "cell_type": "markdown",
   "metadata": {},
   "source": [
    "<div class=\"alert alert-block alert-success\"> **Double click and add your verbal answers here.** </div>"
   ]
  },
  {
   "cell_type": "markdown",
   "metadata": {},
   "source": [
    "<div class=\"alert alert-block alert-warning\">  Effectuez la déconvolution de l’image de la partie précédente et comparer. Vous pouvez utiliser µ=5.10-8. (2pts)\n",
    "    </div>\n",
    "\n"
   ]
  },
  {
   "cell_type": "code",
   "execution_count": null,
   "metadata": {},
   "outputs": [],
   "source": [
    "# Charger H2 \n",
    "H2 = np.load('H2.npy')\n",
    "# Interpolate between 0 and 50 Mhz\n",
    "nbpts = 2048 # Nombre de données acquises par 1 transducteur\n",
    "H2 = np.interp(np.linspace(0, 50, nbpts // 2 + 1), np.linspace(0, 30, len(H2)), H2, left=0, right=0)\n",
    "H2 = np.concatenate((H2[-1:0:-1], H2[:-1]))\n",
    "\n",
    "# Création d'un subplot 1 par 2\n",
    "plt.figure(figsize=[10, 5])\n",
    "plt.subplot(1,2,1)\n",
    "\n",
    "# Chargement et plot de rawdata\n",
    "rawdata = np.load('rawdata.npy')\n",
    "plt.imshow(rawdata, aspect='auto', vmin=-1, vmax=1)\n",
    "plt.colorbar();\n",
    "\n",
    "# Début de solution\n",
    "\n",
    "# Fin de solution "
   ]
  },
  {
   "cell_type": "markdown",
   "metadata": {},
   "source": [
    "<div class=\"alert alert-block alert-warning\">Que se passe-t-il au niveau des bords supérieurs et inférieurs? 1pt </div>\n",
    "\n"
   ]
  },
  {
   "cell_type": "markdown",
   "metadata": {},
   "source": [
    "<div class=\"alert alert-block alert-success\"> **Double click and add your verbal answers here.** </div>"
   ]
  },
  {
   "cell_type": "markdown",
   "metadata": {},
   "source": [
    "<div class=\"alert alert-block alert-warning\">À quoi correspondent les barres horizontales visibles sur une partie de l’image? 1pt\n",
    "    </div>"
   ]
  },
  {
   "cell_type": "markdown",
   "metadata": {},
   "source": [
    "<div class=\"alert alert-block alert-success\"> **Double click and add your verbal answers here.** </div>"
   ]
  },
  {
   "cell_type": "markdown",
   "metadata": {},
   "source": [
    "### Partie 3 : Transducteur"
   ]
  },
  {
   "cell_type": "markdown",
   "metadata": {},
   "source": [
    "TODO"
   ]
  }
 ],
 "metadata": {
  "kernelspec": {
   "display_name": "Python 3",
   "language": "python",
   "name": "python3"
  },
  "language_info": {
   "codemirror_mode": {
    "name": "ipython",
    "version": 3
   },
   "file_extension": ".py",
   "mimetype": "text/x-python",
   "name": "python",
   "nbconvert_exporter": "python",
   "pygments_lexer": "ipython3",
   "version": "3.7.3"
  }
 },
 "nbformat": 4,
 "nbformat_minor": 2
}
